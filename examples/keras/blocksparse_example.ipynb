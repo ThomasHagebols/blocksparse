{
 "cells": [
  {
   "cell_type": "code",
   "execution_count": 1,
   "metadata": {},
   "outputs": [],
   "source": [
    "import tensorflow as tf\n",
    "import numpy as np\n",
    "from blocksparse_layer import BlockSparse\n",
    "from sparsity_pattern_initializers import BarabasiAlbert"
   ]
  },
  {
   "cell_type": "code",
   "execution_count": 2,
   "metadata": {},
   "outputs": [],
   "source": [
    "mnist = tf.keras.datasets.cifar10\n",
    "\n",
    "(x_train, y_train), (x_test, y_test) = mnist.load_data()\n",
    "x_train, x_test = x_train / 255.0, x_test / 255.0"
   ]
  },
  {
   "cell_type": "code",
   "execution_count": 3,
   "metadata": {},
   "outputs": [
    {
     "name": "stdout",
     "output_type": "stream",
     "text": [
      "Epoch 1/20\n",
      "50000/50000 [==============================] - 8s 155us/step - loss: 1.8763 - acc: 0.3171\n",
      "Epoch 2/20\n",
      "50000/50000 [==============================] - 7s 137us/step - loss: 1.6496 - acc: 0.4101\n",
      "Epoch 3/20\n",
      "50000/50000 [==============================] - 7s 139us/step - loss: 1.5632 - acc: 0.4389\n",
      "Epoch 4/20\n",
      "50000/50000 [==============================] - 7s 137us/step - loss: 1.4885 - acc: 0.4670\n",
      "Epoch 5/20\n",
      "50000/50000 [==============================] - 7s 142us/step - loss: 1.4372 - acc: 0.4858\n",
      "Epoch 6/20\n",
      "50000/50000 [==============================] - 7s 145us/step - loss: 1.3884 - acc: 0.5032\n",
      "Epoch 7/20\n",
      "50000/50000 [==============================] - 7s 145us/step - loss: 1.3478 - acc: 0.5167\n",
      "Epoch 8/20\n",
      "50000/50000 [==============================] - 7s 145us/step - loss: 1.3100 - acc: 0.5301\n",
      "Epoch 9/20\n",
      "50000/50000 [==============================] - 7s 142us/step - loss: 1.2720 - acc: 0.5442\n",
      "Epoch 10/20\n",
      "50000/50000 [==============================] - 7s 139us/step - loss: 1.2333 - acc: 0.5591\n",
      "Epoch 11/20\n",
      "50000/50000 [==============================] - 7s 147us/step - loss: 1.1959 - acc: 0.5708\n",
      "Epoch 12/20\n",
      "50000/50000 [==============================] - 7s 145us/step - loss: 1.1642 - acc: 0.5833\n",
      "Epoch 13/20\n",
      "50000/50000 [==============================] - 7s 143us/step - loss: 1.1318 - acc: 0.5949\n",
      "Epoch 14/20\n",
      "50000/50000 [==============================] - 7s 144us/step - loss: 1.0962 - acc: 0.6069\n",
      "Epoch 15/20\n",
      "50000/50000 [==============================] - 7s 141us/step - loss: 1.0670 - acc: 0.6176\n",
      "Epoch 16/20\n",
      "50000/50000 [==============================] - 7s 142us/step - loss: 1.0388 - acc: 0.6291\n",
      "Epoch 17/20\n",
      "50000/50000 [==============================] - 7s 143us/step - loss: 1.0010 - acc: 0.6410\n",
      "Epoch 18/20\n",
      "50000/50000 [==============================] - 7s 142us/step - loss: 0.9685 - acc: 0.6506\n",
      "Epoch 19/20\n",
      "50000/50000 [==============================] - 7s 142us/step - loss: 0.9354 - acc: 0.6645\n",
      "Epoch 20/20\n",
      "50000/50000 [==============================] - 7s 144us/step - loss: 0.8980 - acc: 0.6769\n",
      "_________________________________________________________________\n",
      "Layer (type)                 Output Shape              Param #   \n",
      "=================================================================\n",
      "flatten (Flatten)            multiple                  0         \n",
      "_________________________________________________________________\n",
      "block_sparse (BlockSparse)   multiple                  921600    \n",
      "_________________________________________________________________\n",
      "block_sparse_1 (BlockSparse) multiple                  531456    \n",
      "_________________________________________________________________\n",
      "dropout (Dropout)            multiple                  0         \n",
      "_________________________________________________________________\n",
      "dense (Dense)                multiple                  10250     \n",
      "=================================================================\n",
      "Total params: 1,463,306\n",
      "Trainable params: 1,463,306\n",
      "Non-trainable params: 0\n",
      "_________________________________________________________________\n",
      "10000/10000 [==============================] - 1s 88us/step\n"
     ]
    },
    {
     "data": {
      "text/plain": [
       "[1.3681241981506347, 0.5463]"
      ]
     },
     "execution_count": 3,
     "metadata": {},
     "output_type": "execute_result"
    }
   ],
   "source": [
    "model = tf.keras.models.Sequential([\n",
    "    tf.keras.layers.Flatten(),\n",
    "    BlockSparse(units=1024,\n",
    "                sparsity_mask_initializer=BarabasiAlbert(9),\n",
    "                blocksize=32,\n",
    "                feature_axis=0,\n",
    "                input_shape=(784,),\n",
    "                activation=tf.nn.relu),\n",
    "    BlockSparse(units=1024,\n",
    "            sparsity_mask_initializer=BarabasiAlbert(9),\n",
    "            blocksize=32,\n",
    "            feature_axis=0,\n",
    "            input_shape=(784,),\n",
    "            activation=tf.nn.relu),\n",
    "    tf.keras.layers.Dropout(0.2),\n",
    "    tf.keras.layers.Dense(10, activation=tf.nn.softmax)\n",
    "])\n",
    "\n",
    "model.compile(optimizer=tf.train.MomentumOptimizer(learning_rate=0.01, momentum=0.9),\n",
    "              loss='sparse_categorical_crossentropy',\n",
    "              metrics=['accuracy'])\n",
    "model.fit(x_train, y_train, epochs=20)\n",
    "model.summary()\n",
    "model.evaluate(x_test, y_test)"
   ]
  },
  {
   "cell_type": "code",
   "execution_count": null,
   "metadata": {},
   "outputs": [],
   "source": []
  }
 ],
 "metadata": {
  "kernelspec": {
   "display_name": "Python 3",
   "language": "python",
   "name": "python3"
  },
  "language_info": {
   "codemirror_mode": {
    "name": "ipython",
    "version": 3
   },
   "file_extension": ".py",
   "mimetype": "text/x-python",
   "name": "python",
   "nbconvert_exporter": "python",
   "pygments_lexer": "ipython3",
   "version": "3.6.6"
  }
 },
 "nbformat": 4,
 "nbformat_minor": 2
}
